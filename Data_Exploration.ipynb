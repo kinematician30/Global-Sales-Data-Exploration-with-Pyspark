{
 "cells": [
  {
   "cell_type": "markdown",
   "id": "9f6ce2a0-a9a2-4f3b-8a75-104174879ecf",
   "metadata": {},
   "source": [
    "## Import the Pyspark libraries"
   ]
  },
  {
   "cell_type": "code",
   "execution_count": 29,
   "id": "initial_id",
   "metadata": {
    "ExecuteTime": {
     "end_time": "2025-03-08T10:49:28.180921Z",
     "start_time": "2025-03-08T10:49:27.435532Z"
    }
   },
   "outputs": [],
   "source": [
    "from pyspark.sql import SparkSession\n",
    "from pyspark.sql import functions as F\n",
    "from pyspark.sql import DataFrame\n",
    "from pyspark.sql.types import DateType"
   ]
  },
  {
   "cell_type": "markdown",
   "id": "e0cac746-0c7a-4734-ac76-2a7bfbae8351",
   "metadata": {},
   "source": [
    "## Set a Spark session\n",
    "The SparkSession is the entry point for high-level Spark functionality.\n",
    "it is initiated using the `SparkSession.builder`"
   ]
  },
  {
   "cell_type": "code",
   "execution_count": 22,
   "id": "134639fd-f1d7-440b-a96e-261d056a7101",
   "metadata": {},
   "outputs": [],
   "source": [
    "spk = SparkSession.builder.master('local[4]').appName(\"globalSales\").getOrCreate()"
   ]
  },
  {
   "cell_type": "code",
   "execution_count": 16,
   "id": "2dfc1bd1",
   "metadata": {},
   "outputs": [],
   "source": [
    "# Also create a spark context\n",
    "spk_context = spk.sparkContext\n"
   ]
  },
  {
   "cell_type": "markdown",
   "id": "9ee32f2c",
   "metadata": {},
   "source": [
    "The SparkContext is the entry point for low-level Spark functionality. It represents the connection to a Spark cluster and allows you to create RDDs (Resilient Distributed Datasets)"
   ]
  },
  {
   "cell_type": "markdown",
   "id": "bbaed30c",
   "metadata": {},
   "source": [
    "## Read our dataset"
   ]
  },
  {
   "cell_type": "code",
   "execution_count": 59,
   "id": "436557cd",
   "metadata": {},
   "outputs": [
    {
     "name": "stdout",
     "output_type": "stream",
     "text": [
      "+--------------------+--------------------+-------------+-------------+--------------+----------+---------+----------+----------+----------+---------+-------------+----------+------------+\n",
      "|              Region|             Country|    Item Type|Sales Channel|Order Priority|Order Date| Order ID| Ship Date|Units Sold|Unit Price|Unit Cost|Total Revenue|Total Cost|Total Profit|\n",
      "+--------------------+--------------------+-------------+-------------+--------------+----------+---------+----------+----------+----------+---------+-------------+----------+------------+\n",
      "|Middle East and N...|          Azerbaijan|       Snacks|       Online|             C| 10/8/2014|535113847|10/23/2014|       934|    152.58|    97.44|    142509.72|  91008.96|    51500.76|\n",
      "|Central America a...|              Panama|    Cosmetics|      Offline|             L| 2/22/2015|874708545| 2/27/2015|      4551|     437.2|   263.33|    1989697.2|1198414.83|   791282.37|\n",
      "|  Sub-Saharan Africa|Sao Tome and Prin...|       Fruits|      Offline|             M| 12/9/2015|854349935| 1/18/2016|      9986|      9.33|     6.92|     93169.38|  69103.12|    24066.26|\n",
      "|  Sub-Saharan Africa|Sao Tome and Prin...|Personal Care|       Online|             M| 9/17/2014|892836844|10/12/2014|      9118|     81.73|    56.67|    745214.14| 516717.06|   228497.08|\n",
      "|Central America a...|              Belize|    Household|      Offline|             H|  2/4/2010|129280602|  3/5/2010|      5858|    668.27|   502.54|   3914725.66|2943879.32|   970846.34|\n",
      "+--------------------+--------------------+-------------+-------------+--------------+----------+---------+----------+----------+----------+---------+-------------+----------+------------+\n",
      "only showing top 5 rows\n",
      "\n"
     ]
    }
   ],
   "source": [
    "global_df = spk.read.csv('data\\global_sales_records.csv', header=True, inferSchema=True)\n",
    "\n",
    "global_df.show(5)"
   ]
  },
  {
   "cell_type": "markdown",
   "id": "ffb1a9f7",
   "metadata": {},
   "source": [
    "### Data Information\n",
    "\n",
    "Get to know about your data..."
   ]
  },
  {
   "cell_type": "code",
   "execution_count": 53,
   "id": "bbee8faf",
   "metadata": {},
   "outputs": [
    {
     "name": "stdout",
     "output_type": "stream",
     "text": [
      "Data Shape\n",
      "Rows: 100000\n",
      "Columns: 14\n"
     ]
    }
   ],
   "source": [
    "# Number of rows and colunms\n",
    "print(f\"Data Shape\\nRows: {global_df.count()}\\nColumns: {len(global_df.columns)}\")"
   ]
  },
  {
   "cell_type": "code",
   "execution_count": 54,
   "id": "daaa5908",
   "metadata": {},
   "outputs": [
    {
     "name": "stdout",
     "output_type": "stream",
     "text": [
      "root\n",
      " |-- Region: string (nullable = true)\n",
      " |-- Country: string (nullable = true)\n",
      " |-- Item Type: string (nullable = true)\n",
      " |-- Sales Channel: string (nullable = true)\n",
      " |-- Order Priority: string (nullable = true)\n",
      " |-- Order Date: string (nullable = true)\n",
      " |-- Order ID: integer (nullable = true)\n",
      " |-- Ship Date: string (nullable = true)\n",
      " |-- Units Sold: integer (nullable = true)\n",
      " |-- Unit Price: double (nullable = true)\n",
      " |-- Unit Cost: double (nullable = true)\n",
      " |-- Total Revenue: double (nullable = true)\n",
      " |-- Total Cost: double (nullable = true)\n",
      " |-- Total Profit: double (nullable = true)\n",
      "\n"
     ]
    }
   ],
   "source": [
    "global_df.printSchema()"
   ]
  },
  {
   "cell_type": "code",
   "execution_count": 25,
   "id": "36fe726b",
   "metadata": {},
   "outputs": [
    {
     "name": "stdout",
     "output_type": "stream",
     "text": [
      "[('Region', 'string'), ('Country', 'string'), ('Item Type', 'string'), ('Sales Channel', 'string'), ('Order Priority', 'string'), ('Order Date', 'string'), ('Order ID', 'int'), ('Ship Date', 'string'), ('Units Sold', 'int'), ('Unit Price', 'double'), ('Unit Cost', 'double'), ('Total Revenue', 'double'), ('Total Cost', 'double'), ('Total Profit', 'double')]\n"
     ]
    }
   ],
   "source": [
    "print(global_df.dtypes)"
   ]
  },
  {
   "cell_type": "markdown",
   "id": "8d550c42",
   "metadata": {},
   "source": [
    "## Perform some transformations"
   ]
  },
  {
   "cell_type": "code",
   "execution_count": 60,
   "id": "e4a1678d",
   "metadata": {},
   "outputs": [],
   "source": [
    "# Rename the columns, to remove the spaces\n",
    "def rename_columns_remove_spaces(df: DataFrame) -> DataFrame:\n",
    "    \"\"\"Renames columns in a PySpark DataFrame to replace spaces with underscores.\"\"\"\n",
    "    for col_name in df.columns:\n",
    "        new_col_name = col_name.replace(\" \", \"_\")\n",
    "        df = df.withColumnRenamed(col_name, new_col_name)\n",
    "    return df\n",
    "\n",
    "global_df = rename_columns_remove_spaces(global_df)"
   ]
  },
  {
   "cell_type": "code",
   "execution_count": 56,
   "id": "2f94ebaa",
   "metadata": {},
   "outputs": [],
   "source": [
    "# Convert the order_date and Ship_date to date object\n",
    "# Convert Order_Date and Ship_Date to DateType\n",
    "global_df = global_df.withColumn(\"Order_Date\", F.to_date(F.col(\"Order_Date\"), \"dd/MM/yyyy\"))\n",
    "global_df = global_df.withColumn(\"Ship_Date\", F.to_date(F.col(\"Ship_Date\"), \"dd/MM/yyyy\"))"
   ]
  },
  {
   "cell_type": "markdown",
   "id": "57f7e43a",
   "metadata": {},
   "source": [
    "### Transforming the `Order_Date` and `Ship_Date`"
   ]
  },
  {
   "cell_type": "code",
   "execution_count": 66,
   "id": "ef5b19c1",
   "metadata": {},
   "outputs": [],
   "source": [
    "global_df = global_df.withColumn(\"Order_Date\", F.to_date(F.col(\"Order_Date\"), \"M/d/yyyy\")) \\\n",
    "       .withColumn(\"Ship_Date\", F.to_date(F.col(\"Ship_Date\"), \"M/d/yyyy\"))"
   ]
  },
  {
   "cell_type": "markdown",
   "id": "fbaecfaa",
   "metadata": {},
   "source": [
    "Extract the month and day from the `Order_Date` also the difference in **Days** between the order and ship date"
   ]
  },
  {
   "cell_type": "code",
   "execution_count": 76,
   "id": "bd2f38b4",
   "metadata": {},
   "outputs": [],
   "source": [
    "# To Extract Year\n",
    "global_df = global_df.withColumn(\"Order_Year\", F.year(\"Order_Date\"))\n",
    "\n",
    "# To Extract Month\n",
    "global_df = global_df.withColumn(\"Order_Month\", F.date_format(\"Order_Date\", \"MMMM\"))\n",
    "\n",
    "# To Extract Days\n",
    "global_df = global_df.withColumn(\"Order_Day\", F.date_format(\"Order_Date\", \"E\"))\n",
    "\n",
    "# To Extract Quarter\n",
    "global_df = global_df.withColumn(\"Order_Quarter\", F.quarter(\"Order_Date\"))\n",
    "\n",
    "# To get the difference in days from order to shipping\n",
    "global_df = global_df.withColumn(\"Shipping_Time_days\", F.datediff(\"Ship_Date\", \"Order_Date\"))"
   ]
  },
  {
   "cell_type": "code",
   "execution_count": 78,
   "id": "7edc42f7",
   "metadata": {},
   "outputs": [
    {
     "name": "stdout",
     "output_type": "stream",
     "text": [
      "+--------------------+--------+-------------+-------------+--------------+----------+---------+----------+----------+----------+---------+-------------+----------+------------+-----------+----------+---------+-------------+------------------+\n",
      "|              Region| Country|    Item_Type|Sales_Channel|Order_Priority|Order_Date| Order_ID| Ship_Date|Units_Sold|Unit_Price|Unit_Cost|Total_Revenue|Total_Cost|Total_Profit|Order_Month|Order_Year|Order_Day|Order_Quarter|Shipping_Time_days|\n",
      "+--------------------+--------+-------------+-------------+--------------+----------+---------+----------+----------+----------+---------+-------------+----------+------------+-----------+----------+---------+-------------+------------------+\n",
      "|              Europe| Finland|    Baby Food|       Online|             H|2010-01-01|431350123|2010-01-09|      4942|    255.28|   159.42|   1261593.76| 787853.64|   473740.12|    January|      2010|      Fri|            1|                 8|\n",
      "|Central America a...|   Haiti|Personal Care|      Offline|             H|2010-01-01|279585587|2010-02-04|      4443|     81.73|    56.67|    363126.39| 251784.81|   111341.58|    January|      2010|      Fri|            1|                34|\n",
      "|  Sub-Saharan Africa|    Togo|    Beverages|      Offline|             C|2010-01-01|720434749|2010-01-13|      1507|     47.45|    31.79|     71507.15|  47907.53|    23599.62|    January|      2010|      Fri|            1|                12|\n",
      "|                Asia|Malaysia|   Vegetables|       Online|             C|2010-01-01|583114659|2010-02-03|      5441|    154.06|    90.93|    838240.46| 494750.13|   343490.33|    January|      2010|      Fri|            1|                33|\n",
      "|              Europe| Albania|         Meat|      Offline|             H|2010-01-01|753652942|2010-01-02|      1508|    421.89|   364.69|    636210.12| 549952.52|     86257.6|    January|      2010|      Fri|            1|                 1|\n",
      "+--------------------+--------+-------------+-------------+--------------+----------+---------+----------+----------+----------+---------+-------------+----------+------------+-----------+----------+---------+-------------+------------------+\n",
      "only showing top 5 rows\n",
      "\n"
     ]
    }
   ],
   "source": [
    "# Sort the order by order_date\n",
    "global_df.orderBy(\"Order_Date\").show(5)"
   ]
  },
  {
   "cell_type": "code",
   "execution_count": 77,
   "id": "bc84af77",
   "metadata": {},
   "outputs": [
    {
     "name": "stdout",
     "output_type": "stream",
     "text": [
      "+--------------------+----------+---------+-------------+--------------+----------+---------+----------+----------+----------+---------+-------------+----------+------------+-----------+----------+---------+-------------+------------------+\n",
      "|              Region|   Country|Item_Type|Sales_Channel|Order_Priority|Order_Date| Order_ID| Ship_Date|Units_Sold|Unit_Price|Unit_Cost|Total_Revenue|Total_Cost|Total_Profit|Order_Month|Order_Year|Order_Day|Order_Quarter|Shipping_Time_days|\n",
      "+--------------------+----------+---------+-------------+--------------+----------+---------+----------+----------+----------+---------+-------------+----------+------------+-----------+----------+---------+-------------+------------------+\n",
      "|Middle East and N...|Azerbaijan|   Snacks|       Online|             C|2014-10-08|535113847|2014-10-23|       934|    152.58|    97.44|    142509.72|  91008.96|    51500.76|    October|      2014|      Wed|            4|                15|\n",
      "|Central America a...|    Panama|Cosmetics|      Offline|             L|2015-02-22|874708545|2015-02-27|      4551|     437.2|   263.33|    1989697.2|1198414.83|   791282.37|   February|      2015|      Sun|            1|                 5|\n",
      "+--------------------+----------+---------+-------------+--------------+----------+---------+----------+----------+----------+---------+-------------+----------+------------+-----------+----------+---------+-------------+------------------+\n",
      "only showing top 2 rows\n",
      "\n"
     ]
    }
   ],
   "source": [
    "global_df.show(2)"
   ]
  }
 ],
 "metadata": {
  "kernelspec": {
   "display_name": "venv",
   "language": "python",
   "name": "python3"
  },
  "language_info": {
   "codemirror_mode": {
    "name": "ipython",
    "version": 3
   },
   "file_extension": ".py",
   "mimetype": "text/x-python",
   "name": "python",
   "nbconvert_exporter": "python",
   "pygments_lexer": "ipython3",
   "version": "3.10.10"
  }
 },
 "nbformat": 4,
 "nbformat_minor": 5
}
